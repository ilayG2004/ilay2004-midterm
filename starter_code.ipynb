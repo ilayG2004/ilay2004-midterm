{
 "cells": [
  {
   "cell_type": "markdown",
   "metadata": {},
   "source": [
    "# Libraries"
   ]
  },
  {
   "cell_type": "code",
   "execution_count": 10,
   "metadata": {},
   "outputs": [
    {
     "name": "stderr",
     "output_type": "stream",
     "text": [
      "[nltk_data] Downloading package vader_lexicon to\n",
      "[nltk_data]     C:\\Users\\Ilay2\\AppData\\Roaming\\nltk_data...\n",
      "[nltk_data]   Package vader_lexicon is already up-to-date!\n"
     ]
    }
   ],
   "source": [
    "import pickle\n",
    "import pandas as pd\n",
    "import seaborn as sns\n",
    "from os.path import exists\n",
    "import matplotlib.pyplot as plt\n",
    "from sklearn.neighbors import KNeighborsClassifier\n",
    "from sklearn.ensemble import RandomForestClassifier\n",
    "from sklearn.model_selection import train_test_split\n",
    "from sklearn.metrics import accuracy_score, confusion_matrix\n",
    "\n",
    "\n",
    "\n",
    "import nltk.metrics\n",
    "from nltk.sentiment.vader import SentimentIntensityAnalyzer\n",
    "import nltk\n",
    "nltk.download('vader_lexicon')\n",
    "sia = SentimentIntensityAnalyzer()"
   ]
  },
  {
   "cell_type": "markdown",
   "metadata": {},
   "source": [
    "# Loading the Files\n",
    "\n",
    "Download the csv files into the `data/` directory."
   ]
  },
  {
   "cell_type": "code",
   "execution_count": 11,
   "metadata": {},
   "outputs": [
    {
     "name": "stdout",
     "output_type": "stream",
     "text": [
      "train.csv shape is  (1697533, 9)\n",
      "test.csv shape is  (212192, 2)\n",
      "\n",
      "        Id   ProductId          UserId  HelpfulnessNumerator  \\\n",
      "0   914403  B0009W5KHM   AV6QDP8Q0ONK4                     2   \n",
      "1   354887  6303079709  A2I8RXJN80A2D2                     0   \n",
      "2  1407653  B004H0M2XC  A3FHV3RV8Z12E6                     0   \n",
      "3  1377458  B003ZJ9536  A12VLTA3ZHVPUY                     1   \n",
      "4   475323  630574453X  A13NM1PES9OXVN                     2   \n",
      "\n",
      "   HelpfulnessDenominator        Time  \\\n",
      "0                       2  1341014400   \n",
      "1                       0  1168819200   \n",
      "2                       0  1386201600   \n",
      "3                       1  1348704000   \n",
      "4                       3   970012800   \n",
      "\n",
      "                                         Summary  \\\n",
      "0                                  GOOD FUN FILM   \n",
      "1                                   Movie Review   \n",
      "2             When is it a good time to Consent?   \n",
      "3                                          TRUTH   \n",
      "4  Intelligent and bittersweet -- stays with you   \n",
      "\n",
      "                                                Text  Score  \n",
      "0  While most straight to DVD films are not worth...    5.0  \n",
      "1  I have wanted this one for sometime, also.  I ...    5.0  \n",
      "2  Actually this was a pretty darn good indie fil...    4.0  \n",
      "3  Episodes 37 to 72 of the series press on in a ...    5.0  \n",
      "4  I was really impressed with this movie, but wa...    3.0  \n",
      "\n",
      "        Id  Score\n",
      "0  1323432    NaN\n",
      "1  1137299    NaN\n",
      "2  1459366    NaN\n",
      "3   931601    NaN\n",
      "4  1311995    NaN\n",
      "\n",
      "                 Id  HelpfulnessNumerator  HelpfulnessDenominator  \\\n",
      "count  1.697533e+06          1.697533e+06            1.697533e+06   \n",
      "mean   8.487660e+05          3.569048e+00            5.301422e+00   \n",
      "std    4.900357e+05          1.727883e+01            2.024445e+01   \n",
      "min    0.000000e+00          0.000000e+00            0.000000e+00   \n",
      "25%    4.243830e+05          0.000000e+00            0.000000e+00   \n",
      "50%    8.487660e+05          1.000000e+00            1.000000e+00   \n",
      "75%    1.273149e+06          3.000000e+00            5.000000e+00   \n",
      "max    1.697532e+06          6.084000e+03            6.510000e+03   \n",
      "\n",
      "               Time         Score  \n",
      "count  1.697533e+06  1.485341e+06  \n",
      "mean   1.262422e+09  4.110517e+00  \n",
      "std    1.289277e+08  1.197651e+00  \n",
      "min    8.793792e+08  1.000000e+00  \n",
      "25%    1.164413e+09  4.000000e+00  \n",
      "50%    1.307491e+09  5.000000e+00  \n",
      "75%    1.373242e+09  5.000000e+00  \n",
      "max    1.406074e+09  5.000000e+00  \n"
     ]
    },
    {
     "data": {
      "image/png": "[encoded data removed]",
      "text/plain": [
       "<Figure size 640x480 with 1 Axes>"
      ]
     },
     "metadata": {},
     "output_type": "display_data"
    },
    {
     "name": "stdout",
     "output_type": "stream",
     "text": [
      "\n",
      "EVERYTHING IS PROPERLY SET UP! YOU ARE READY TO START\n"
     ]
    }
   ],
   "source": [
    "trainingSet = pd.read_csv(\"./data/train.csv\")\n",
    "testingSet = pd.read_csv(\"./data/test.csv\")\n",
    "\n",
    "print(\"train.csv shape is \", trainingSet.shape)\n",
    "print(\"test.csv shape is \", testingSet.shape)\n",
    "\n",
    "print()\n",
    "\n",
    "print(trainingSet.head())\n",
    "print()\n",
    "print(testingSet.head())\n",
    "\n",
    "print()\n",
    "\n",
    "print(trainingSet.describe())\n",
    "trainingSet['Score'].value_counts().plot(kind='bar', legend=True, alpha=.5)\n",
    "plt.show()\n",
    "\n",
    "print()\n",
    "print(\"EVERYTHING IS PROPERLY SET UP! YOU ARE READY TO START\")"
   ]
  },
  {
   "cell_type": "markdown",
   "metadata": {},
   "source": [
    "A lot of reviews with 5 stars. And then far fewer with 4, 3, 1, & 2. \n",
    "We could try to train a model with even distribution of reviews!"
   ]
  },
  {
   "cell_type": "markdown",
   "metadata": {},
   "source": [
    "# Adding Features"
   ]
  },
  {
   "cell_type": "markdown",
   "metadata": {},
   "source": [
    "Attempts to find interesting features:\n",
    "Urgent language: capitals and exclamation marks\n",
    "Review Length: average length of 1 to 5 star reviews\n",
    "\n",
    "Conclusion: Not useful. Urgent spelling is barely more appearent in 5 star reviews (and there are disproportionately more 5 star reviews), so nothing can be said about that. Review length seems arbitrary; bar chart almost looks like normal distribution.\n",
    "As such these extractors were given their own section."
   ]
  },
  {
   "cell_type": "code",
   "execution_count": 8,
   "metadata": {},
   "outputs": [],
   "source": [
    "def extract_urgnecy(df):\n",
    "    df['Capitals_Summary'] = df['Summary'].str.count(r'[A-Z]')\n",
    "    df['Exclamations_Summary'] = df['Summary'].str.count('!')\n",
    "    df['Capitals_Text'] = df['Text'].str.count(r'[A-Z]')\n",
    "    df['Exclamations_Text'] = df['Text'].str.count('!')\n",
    "\n",
    "    #Total number of capitals and exclamations\n",
    "    df['Capitals'] = df['Capitals_Summary'] + df['Capitals_Text']\n",
    "    df['Exclamations'] = df['Exclamations_Summary'] + df['Exclamations_Text']\n",
    "\n",
    "    #Length of Summary and Text combined\n",
    "    df['Total_Length'] = df['Summary'].str.len() + df['Text'].str.len()\n",
    "\n",
    "    #Urgency score\n",
    "    df['Urgency_Score'] = (df['Capitals'] + df['Exclamations']) / df['Total_Length']\n",
    "\n",
    "    #Fill any NaN values with 0 (in case of empty summaries/texts)\n",
    "    df['Urgency_Score'] = df['Urgency_Score'].fillna(0)\n",
    "\n",
    "    #Drop intermediate columns used for calculation\n",
    "    df.drop(columns=['Capitals_Summary', 'Exclamations_Summary', 'Capitals_Text', 'Exclamations_Text', 'Capitals', 'Exclamations', 'Total_Length'], inplace=True)\n",
    "\n",
    "    return df"
   ]
  },
  {
   "cell_type": "code",
   "execution_count": 23,
   "metadata": {},
   "outputs": [],
   "source": [
    "def urgency_to_score_visualization(trainingSet):\n",
    "  avg_urgencyScore = trainingSet.groupby('Score')['Urgency_Score'].mean()\n",
    "\n",
    "  plt.bar(avg_urgencyScore.index, avg_urgencyScore.values)\n",
    "  #plt.xlabel('Rating')\n",
    "  #plt.ylabel('Urgency Score')\n",
    "  plt.show()"
   ]
  },
  {
   "cell_type": "code",
   "execution_count": 24,
   "metadata": {},
   "outputs": [],
   "source": [
    "def review_length_visualization(trainingSet):\n",
    "  avg_revLength = trainingSet.groupby('Score')['Review_Length'].mean()\n",
    "  print(avg_revLength.index, avg_revLength.values)\n",
    "  plt.bar(avg_revLength.index, avg_revLength.values)\n",
    "  #plt.xlabel('Rating')\n",
    "  #plt.ylabel('Review Length')\n",
    "  plt.show()"
   ]
  },
  {
   "cell_type": "code",
   "execution_count": 13,
   "metadata": {},
   "outputs": [],
   "source": [
    "def calculate_sentiment(text):\n",
    "    #Returns a dictionary with pos, neu, neg, and compound scores\n",
    "    if isinstance(text, str):  #Type checking: Process only if the text is a string\n",
    "        sentiment = sia.polarity_scores(text)\n",
    "        return sentiment['compound']\n",
    "    else:\n",
    "        return 0"
   ]
  },
  {
   "cell_type": "code",
   "execution_count": 14,
   "metadata": {},
   "outputs": [
    {
     "name": "stdout",
     "output_type": "stream",
     "text": [
      "Score\n",
      "1.0   -0.115910\n",
      "2.0    0.155314\n",
      "3.0    0.433981\n",
      "4.0    0.619391\n",
      "5.0    0.701009\n",
      "Name: Sentiment_Score, dtype: float64\n",
      "Score\n",
      "1.0   -0.164468\n",
      "2.0   -0.062055\n",
      "3.0    0.096454\n",
      "4.0    0.224175\n",
      "5.0    0.294346\n",
      "Name: Summary_Sentiment_Score, dtype: float64\n",
      "Score\n",
      "1.0     863.764876\n",
      "2.0    1122.034501\n",
      "3.0    1122.100834\n",
      "4.0    1102.115375\n",
      "5.0     785.957753\n",
      "Name: Review_Length, dtype: float64\n",
      "Score\n",
      "1.0    0.362576\n",
      "2.0    0.365012\n",
      "3.0    0.370858\n",
      "4.0    0.432851\n",
      "5.0    0.400386\n",
      "Name: Helpfulness, dtype: float64\n",
      "Testing Set Shape: (212192, 2)\n",
      "Unique IDs in Train: [ 914403  354887 1407653 ... 1346402  695280 1371294]\n",
      "Unique IDs in Testing Set: [1323432 1137299 1459366 ... 1346402  695280 1371294]\n"
     ]
    }
   ],
   "source": [
    "#suggestion: TAKE 10000 ROWS FROM TRAIN.CSV AND WORK WITH IT FOR ENTIRETY OF COMP\n",
    "def add_features_to(df, training_scores=None):\n",
    "    # This is where you can do all your feature extraction\n",
    "    #Whatever you can think of. Is there a relationship between this feature and the score.\n",
    "        #Ex: Number of exclamation marks and the score\n",
    "        #Could build youur own language processing model, the presence of these words, punctuation, emoji, etc\n",
    "        #Number of words for the amount of review. Like maybe a 1 star review has less words\n",
    "        #PLOT LOTS OF THINGFS & ATTRRIBUTES. modeling COMES LAST\n",
    "        \n",
    "    df['Helpfulness'] = df['HelpfulnessNumerator'] / df['HelpfulnessDenominator']\n",
    "    df['Helpfulness'] = df['Helpfulness'].fillna(0)\n",
    "    \n",
    "    df['Review_Length'] = df['Text'].str.len()\n",
    "    df['Review_Length'] = df['Review_Length'].fillna(0)\n",
    "\n",
    "    #Language learning of positive/negative language\n",
    "    df['Sentiment_Score'] = df['Text'].apply(calculate_sentiment)\n",
    "    df['Summary_Sentiment_Score'] = df['Summary'].apply(calculate_sentiment)\n",
    "\n",
    "    if training_scores is None:\n",
    "        #Avg score for each product ID\n",
    "        training_scores = df.groupby('ProductId')['Score'].mean()\n",
    "    #Insert avg score for each product in a row which corresponds to its product\n",
    "    df['Product_Avg_Score'] = df['ProductId'].map(training_scores)\n",
    "\n",
    "    return df\n",
    "\n",
    "# Load the feature extracted files if they've already been generated\n",
    "if exists('./data/X_train.csv'):\n",
    "    X_train = pd.read_csv(\"./data/X_train.csv\")\n",
    "if exists('./data/X_submission.csv'):\n",
    "    X_submission = pd.read_csv(\"./data/X_submission.csv\")\n",
    "\n",
    "else:\n",
    "    # Process the DataFrame\n",
    "    train = add_features_to(trainingSet)\n",
    "    print(train.groupby('Score')['Sentiment_Score'].mean())\n",
    "    print(train.groupby('Score')['Summary_Sentiment_Score'].mean())\n",
    "    print(train.groupby('Score')['Review_Length'].mean())\n",
    "    print(train.groupby('Score')['Helpfulness'].mean())\n",
    "\n",
    "    #urgency_to_score_visualization(train)\n",
    "    #review_length_visualization(train)\n",
    "\n",
    "    # Merge on Id so that the submission set can have feature columns as well\n",
    "    print(\"Testing Set Shape:\", testingSet.shape)\n",
    "    print(\"Unique IDs in Train:\", train['Id'].unique())\n",
    "    print(\"Unique IDs in Testing Set:\", testingSet['Id'].unique())\n",
    "\n",
    "    X_submission = pd.merge(train, testingSet, left_on='Id', right_on='Id')\n",
    "    X_submission = X_submission.drop(columns=['Score_x'])\n",
    "    X_submission = X_submission.rename(columns={'Score_y': 'Score'})\n",
    "\n",
    "    # The training set is where the score is not null\n",
    "    X_train =  train[train['Score'].notnull()]\n",
    "\n",
    "    X_submission.to_csv(\"./data/X_submission.csv\", index=False)\n",
    "    X_train.to_csv(\"./data/X_train.csv\", index=False)"
   ]
  },
  {
   "cell_type": "markdown",
   "metadata": {},
   "source": [
    "# Sample + Split into training and testing set"
   ]
  },
  {
   "cell_type": "code",
   "execution_count": 15,
   "metadata": {},
   "outputs": [],
   "source": [
    "# Split training set into training and testing set\n",
    "X_train, X_test, Y_train, Y_test = train_test_split(\n",
    "    X_train.drop(columns=['Score']),\n",
    "    X_train['Score'],\n",
    "    test_size=1/4.0,\n",
    "    random_state=0\n",
    ")"
   ]
  },
  {
   "cell_type": "markdown",
   "metadata": {},
   "source": [
    "# Feature Selection"
   ]
  },
  {
   "cell_type": "code",
   "execution_count": 17,
   "metadata": {},
   "outputs": [],
   "source": [
    "'''\n",
    "After new features are created by add_features_to or other functions, \n",
    "the list of features specifies which subset of features will be used for model training. \n",
    "'''\n",
    "features = ['Sentiment_Score', 'Summary_Sentiment_Score', 'HelpfulnessNumerator','HelpfulnessDenominator', 'Product_Avg_Score' ]\n",
    "\n",
    "\n",
    "#We created all these features, but which ones do we wanna use in our models. \n",
    "#For example, the ones selected here are all numerical, so it helps to use for KNN\n",
    "X_train_select = X_train[features]\n",
    "X_test_select = X_test[features]\n",
    "X_submission_select = X_submission[features]"
   ]
  },
  {
   "cell_type": "markdown",
   "metadata": {},
   "source": [
    "# Model Creation"
   ]
  },
  {
   "cell_type": "code",
   "execution_count": 18,
   "metadata": {},
   "outputs": [],
   "source": [
    "# Learn the model\n",
    "#model = KNeighborsClassifier(n_neighbors=3).fit(X_train_select, Y_train)\n",
    "\n",
    "#Try learning Model with Random forest\n",
    "model = RandomForestClassifier(n_estimators=100, max_depth=10, random_state=0)\n",
    "model.fit(X_train_select, Y_train)\n",
    "\n",
    "# Predict the score using the model\n",
    "Y_test_predictions = model.predict(X_test_select)"
   ]
  },
  {
   "cell_type": "markdown",
   "metadata": {},
   "source": [
    "# Model Evaluation"
   ]
  },
  {
   "cell_type": "code",
   "execution_count": 19,
   "metadata": {},
   "outputs": [
    {
     "name": "stdout",
     "output_type": "stream",
     "text": [
      "Accuracy on testing set =  0.5813118038649633\n"
     ]
    },
    {
     "data": {
      "image/png": "[encoded data removed]",
      "text/plain": [
       "<Figure size 640x480 with 2 Axes>"
      ]
     },
     "metadata": {},
     "output_type": "display_data"
    }
   ],
   "source": [
    "# Evaluate your model on the testing set\n",
    "print(\"Accuracy on testing set = \", accuracy_score(Y_test, Y_test_predictions))\n",
    "\n",
    "# Plot a confusion matrix\n",
    "cm = confusion_matrix(Y_test, Y_test_predictions, normalize='true')\n",
    "sns.heatmap(cm, annot=True)\n",
    "plt.title('Confusion matrix of the classifier')\n",
    "plt.xlabel('Predicted')\n",
    "plt.ylabel('True')\n",
    "plt.show()"
   ]
  },
  {
   "cell_type": "markdown",
   "metadata": {},
   "source": [
    "# Create submission file"
   ]
  },
  {
   "cell_type": "code",
   "execution_count": 20,
   "metadata": {},
   "outputs": [],
   "source": [
    "# Create the submission file\n",
    "#Make submission files sparingly. Only 5 per day\n",
    "#Add link to github repo commit id in the description of the submission\n",
    "X_submission['Score'] = model.predict(X_submission_select)\n",
    "submission = X_submission[['Id', 'Score']]\n",
    "submission.to_csv(\"./data/submission.csv\", index=False)"
   ]
  }
 ],
 "metadata": {
  "kernelspec": {
   "display_name": "Python 3",
   "language": "python",
   "name": "python3"
  },
  "language_info": {
   "codemirror_mode": {
    "name": "ipython",
    "version": 3
   },
   "file_extension": ".py",
   "mimetype": "text/x-python",
   "name": "python",
   "nbconvert_exporter": "python",
   "pygments_lexer": "ipython3",
   "version": "3.11.9"
  }
 },
 "nbformat": 4,
 "nbformat_minor": 2
}
